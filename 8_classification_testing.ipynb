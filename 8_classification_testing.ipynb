{
 "cells": [
  {
   "cell_type": "markdown",
   "metadata": {
    "id": "CGbi6mIq9UiG"
   },
   "source": [
    "# Singular value decomposition for image processing"
   ]
  },
  {
   "cell_type": "code",
   "execution_count": 4,
   "metadata": {
    "id": "ysFCN3YHxVog",
    "tags": []
   },
   "outputs": [],
   "source": [
    "import os\n",
    "\n",
    "import numpy as np\n",
    "from numpy import linalg\n",
    "import matplotlib.pyplot as plt\n",
    "from PIL import Image\n",
    "from tqdm.notebook import tqdm\n",
    "from sklearn.metrics.pairwise import cosine_similarity\n",
    "from random import sample\n",
    "\n",
    "from sklearn.datasets import fetch_olivetti_faces\n",
    "from sklearn.neighbors import KNeighborsClassifier"
   ]
  },
  {
   "cell_type": "code",
   "execution_count": 5,
   "metadata": {},
   "outputs": [],
   "source": [
    "olivetti_dataset = fetch_olivetti_faces()"
   ]
  },
  {
   "cell_type": "markdown",
   "metadata": {
    "id": "89BcfolH9Sax",
    "tags": []
   },
   "source": [
    "## Data\n",
    "I will be using the CelebA facial dataset. It has identities and attributes of many celebrities. It can be found here:\n",
    " https://drive.google.com/drive/folders/0B7EVK8r0v71pWEZsZE9oNnFzTm8?resourcekey=0-5BR16BdXnb8hVj6CNHKzLg"
   ]
  },
  {
   "cell_type": "code",
   "execution_count": 7,
   "metadata": {
    "colab": {
     "base_uri": "https://localhost:8080/",
     "height": 66,
     "referenced_widgets": [
      "44f28ebcae0f420d9bc99a4ed179c12b",
      "3918628cfbd444b8beb72b6030a864a4",
      "d84f1fdd7a2544d9be5c74538e943114",
      "557fb300650248ef945a3ecb22ebb545",
      "ff6c728146bf48f68e9d152c5d4070ea",
      "ef75125adb1b4f84b1b0ef58d4591307",
      "88928def983340ee936314c049315ce5",
      "1edd9e1c984043ed9f21cd33c14430cd",
      "70aac52b1b574dcfaad3421b55689899",
      "b132217ade794ec8aed698c41dc2fc0a",
      "6ff79738b0a941a3a4a2609fe62526b4"
     ]
    },
    "id": "QFVjtgCl-k2g",
    "outputId": "fe0f184f-73df-471c-8f5b-3110ce503c76"
   },
   "outputs": [
    {
     "data": {
      "application/vnd.jupyter.widget-view+json": {
       "model_id": "cb124d1836194ac1a7a5d44bfde0e53b",
       "version_major": 2,
       "version_minor": 0
      },
      "text/plain": [
       "  0%|          | 0/40 [00:00<?, ?it/s]"
      ]
     },
     "metadata": {},
     "output_type": "display_data"
    },
    {
     "name": "stdout",
     "output_type": "stream",
     "text": [
      "We have 360 of shape (64, 64).\n"
     ]
    }
   ],
   "source": [
    "shape = (64, 64)  # Size can be changed, e.g., (96, 84) or (192, 168)\n",
    "num_identities = 40\n",
    "images = []\n",
    "identity_labels = []\n",
    "test_images = []\n",
    "test_identity_labels = []\n",
    "for i in tqdm(sample(range(40),num_identities)):\n",
    "    \n",
    "    for j in range(9):\n",
    "        image = Image.fromarray(olivetti_dataset['images'][10 * i + j])\n",
    "        image = image.resize(shape[::-1])\n",
    "        image = np.asarray(image).astype(np.float32)\n",
    "        images.append(image)\n",
    "        identity_labels.append(i)\n",
    "    image = Image.fromarray(olivetti_dataset['images'][10 * i + 9])\n",
    "    image = image.resize(shape[::-1])\n",
    "    image = np.asarray(image).astype(np.float32) \n",
    "    test_images.append(image)\n",
    "    test_identity_labels.append(i)\n",
    "    \n",
    "images = np.stack(images, axis=0)\n",
    "test_images = np.stack(test_images, axis = 0)\n",
    "num_images = images.shape[0]\n",
    "image_shape = images.shape[1:]\n",
    "print(f\"We have {num_images} of shape {image_shape}.\")"
   ]
  },
  {
   "cell_type": "markdown",
   "metadata": {},
   "source": [
    "images = images[:351]\n",
    "images.shape\n",
    "num_identities = 39"
   ]
  },
  {
   "cell_type": "code",
   "execution_count": 23,
   "metadata": {
    "id": "1D0-NH8Axk29"
   },
   "outputs": [],
   "source": [
    "def imshow(image, shape=image_shape, vmin=0, vmax=1, dpi=72, cmap=\"gray\"):\n",
    "    plt.figure(dpi=dpi)\n",
    "    plt.axis(\"off\")\n",
    "    if shape is not None:\n",
    "        image = np.reshape(image, shape)\n",
    "    if vmin is None:\n",
    "        vmin = image.min()\n",
    "    if vmax is None:\n",
    "        vmax = image.max()\n",
    "    plt.imshow(image, vmin=vmin, vmax=vmax, cmap=cmap)"
   ]
  },
  {
   "cell_type": "code",
   "execution_count": 24,
   "metadata": {
    "id": "dbWqDi0sDmhz"
   },
   "outputs": [],
   "source": [
    "def imshow_sequence(images, idxs=None, sort=True, title=True, **kwargs):\n",
    "    if type(idxs) == int:\n",
    "        idxs = np.random.choice(len(images), idxs)\n",
    "        if sort:\n",
    "            idxs.sort()\n",
    "    elif idxs is None:\n",
    "        idxs = list(range(len(images)))\n",
    "    images_show = images[idxs]\n",
    "\n",
    "    fig, axs = plt.subplots(1, len(images_show), figsize=(20, 20))\n",
    "    for i in tqdm(range(images_show.shape[0])):\n",
    "        if title:\n",
    "            axs[i].title.set_text(f\"$i = {idxs[i]}$\")\n",
    "        axs[i].axis(\"off\")\n",
    "        axs[i].imshow(images_show[i], **kwargs)"
   ]
  },
  {
   "cell_type": "markdown",
   "metadata": {
    "id": "kTShPiICH8vJ",
    "tags": []
   },
   "source": [
    "## Singular value decomposition"
   ]
  },
  {
   "cell_type": "code",
   "execution_count": 10,
   "metadata": {
    "colab": {
     "base_uri": "https://localhost:8080/"
    },
    "id": "uRzmww4g_E2h",
    "outputId": "51e8b1c4-98f7-47df-a19e-4b09b6d84799"
   },
   "outputs": [
    {
     "name": "stdout",
     "output_type": "stream",
     "text": [
      "We flatten the images to 4096-dimensional vectors. They are now column vectors of D.\n"
     ]
    }
   ],
   "source": [
    "D = np.reshape(images, (images.shape[0], -1)).T\n",
    "print(f\"We flatten the images to {D.shape[0]}-dimensional vectors. \"\n",
    "      \"They are now column vectors of D.\")"
   ]
  },
  {
   "cell_type": "code",
   "execution_count": 11,
   "metadata": {
    "id": "JtYv1JpQCahD"
   },
   "outputs": [],
   "source": [
    "f_bar = np.mean(D, axis=1)[:, None]\n",
    "D_tilde = D - f_bar  # Mean-center D"
   ]
  },
  {
   "cell_type": "markdown",
   "metadata": {
    "id": "VKlGUQqfIKo3"
   },
   "source": [
    "The singular value decomposition (SVD) decomposes our dataset $\\boldsymbol{D}$ (or more precisely, the mean-centered $\\tilde{\\boldsymbol{D}}$), into\n",
    "$$ \\boldsymbol{D} = \\boldsymbol{U} \\boldsymbol{\\Sigma} \\boldsymbol{V}^T . $$\n",
    "Particularly, $\\boldsymbol{D} \\in \\mathbb{R}^{d \\times n}$, where $d$ is dimensions (i.e., number of pixels) in one image and $n$ is the number of images, so the images are column vectors of $\\boldsymbol{D}$. We are primarily interested in $\\boldsymbol{U} \\in \\mathbb{R}^{d \\times d}$, as the column vectors of $\\boldsymbol{U}$ are the eigenfaces of $\\boldsymbol{D}$ in order of decreasing singular values, i.e., importance."
   ]
  },
  {
   "cell_type": "code",
   "execution_count": 12,
   "metadata": {
    "colab": {
     "base_uri": "https://localhost:8080/"
    },
    "id": "8G0CX9sD_Yms",
    "outputId": "3f9f318e-ecc2-44a3-c097-6b0fead2fa88"
   },
   "outputs": [
    {
     "name": "stdout",
     "output_type": "stream",
     "text": [
      "Wall time: 821 ms\n"
     ]
    }
   ],
   "source": [
    "%%time\n",
    "\n",
    "U, S, VT = linalg.svd(D_tilde)  # Takes ~12s for a (42, 48) image"
   ]
  },
  {
   "cell_type": "code",
   "execution_count": 13,
   "metadata": {
    "id": "8ypCXNmwBGPp"
   },
   "outputs": [],
   "source": [
    "# The column vectors of U is our collection of eigenfaces. We reshape U into U_show so U_show can be\n",
    "# directly displayed as the eigenfaces.\n",
    "U_show = np.reshape(U.T, (U.shape[0],) + image_shape)\n",
    "V = VT.T  # Technically SVD actually outputs V^T, so we transpose it back here"
   ]
  },
  {
   "cell_type": "markdown",
   "metadata": {
    "id": "WUy3_6dQJcfr"
   },
   "source": [
    "You can see how the first few eigenfaces, i.e., column vectors of $\\boldsymbol{U}$, represents global features of the dataset, e.g., lighting."
   ]
  },
  {
   "cell_type": "code",
   "execution_count": 14,
   "metadata": {
    "colab": {
     "base_uri": "https://localhost:8080/",
     "height": 216,
     "referenced_widgets": [
      "d6bec46cca0746259c02ed7bc64ab864",
      "3446009fa6934ee3a35b44d065cd32a2",
      "633da82066234544a3f215b21eb93a26",
      "316b54fb3fbb4e4cb133deb3d05f060a",
      "c8883843e82e4ca69c50981a71edbf1a",
      "562f9a2ecb8e4784a418870c07a97cc2",
      "3f056d911b574f738055c7f704f6798c",
      "12c768b7e051447cb12726aefdd398e6",
      "04476f9f59e84e5b855fa4797e5734af",
      "e0798d2880eb4db5bf7f5b92296b8d38",
      "c08c67b6cf6948329af5b84bf6b0da99"
     ]
    },
    "id": "Tr93_4AACBAG",
    "jp-MarkdownHeadingCollapsed": true,
    "outputId": "981fd8a2-9217-4bdd-b3b7-b373dba71eae",
    "tags": []
   },
   "outputs": [
    {
     "data": {
      "application/vnd.jupyter.widget-view+json": {
       "model_id": "1c66513621df465c9b4720de926441b5",
       "version_major": 2,
       "version_minor": 0
      },
      "text/plain": [
       "  0%|          | 0/8 [00:00<?, ?it/s]"
      ]
     },
     "metadata": {},
     "output_type": "display_data"
    },
    {
     "data": {
      "image/png": "[encoded data removed]",
      "text/plain": [
       "<Figure size 1440x1440 with 8 Axes>"
      ]
     },
     "metadata": {
      "needs_background": "light"
     },
     "output_type": "display_data"
    }
   ],
   "source": [
    "imshow_sequence(U_show, idxs=list(range(356, 364)), cmap=\"gray\")  # The first 8 eigenfaces"
   ]
  },
  {
   "cell_type": "markdown",
   "metadata": {
    "id": "jyMgFU8VJtlR"
   },
   "source": [
    "You can also see how, as we move from the first eigenfaces (higher singular values) to the last eigenfaces (lower singular values), the eigenfaces begin to represent fine details instead of global features."
   ]
  },
  {
   "cell_type": "code",
   "execution_count": 15,
   "metadata": {
    "colab": {
     "base_uri": "https://localhost:8080/",
     "height": 178,
     "referenced_widgets": [
      "fbe32e3767214fc68528a6380138263a",
      "d8b07b21a4e744e7a9a40db32594785b",
      "9a2a4c09074949438eda598da8036719",
      "8e83c991fbe24518a81f96929fe28142",
      "54e6331b474f4375a91ede10421a6ddb",
      "1c16b31816e34c548970550ef90a2786",
      "e59525b7cc234b40b331d83e8ee21b71",
      "2a6424a629ec4a448b7b97ab0408139d",
      "529d81f1c16042a1bc4e922b09c9ed9a",
      "d82f830edfa0401ca2f76ec0ba2bff3a",
      "c5f6841155b146aa8a8f83d42eebfc7e"
     ]
    },
    "id": "FfPFRP72COgY",
    "outputId": "197cf7b8-f117-475d-acb3-e48104c05963"
   },
   "outputs": [
    {
     "data": {
      "application/vnd.jupyter.widget-view+json": {
       "model_id": "e6352d87c8134bf19d236a9fbaa1d514",
       "version_major": 2,
       "version_minor": 0
      },
      "text/plain": [
       "  0%|          | 0/12 [00:00<?, ?it/s]"
      ]
     },
     "metadata": {},
     "output_type": "display_data"
    },
    {
     "data": {
      "image/png": "[encoded data removed]",
      "text/plain": [
       "<Figure size 1440x1440 with 12 Axes>"
      ]
     },
     "metadata": {
      "needs_background": "light"
     },
     "output_type": "display_data"
    }
   ],
   "source": [
    "imshow_sequence(U_show, idxs=[pow(2, i) for i in range(12)], cmap=\"gray\")"
   ]
  },
  {
   "cell_type": "markdown",
   "metadata": {
    "id": "VWrRhxE1XdK_",
    "jp-MarkdownHeadingCollapsed": true,
    "tags": []
   },
   "source": [
    "## Projection & Reconstruction"
   ]
  },
  {
   "cell_type": "code",
   "execution_count": 16,
   "metadata": {
    "id": "h1Xj8LmpdwTX"
   },
   "outputs": [],
   "source": [
    "def extract_from_D(D, i, column=True):\n",
    "    \"\"\"Extracts the i^th column vector from D, column=True keeps it as a column vector.\"\"\"\n",
    "    if column:\n",
    "        x = D[:, i:i + 1]\n",
    "    else:\n",
    "        x = D[:, i]\n",
    "    return x"
   ]
  },
  {
   "cell_type": "code",
   "execution_count": 17,
   "metadata": {
    "id": "RiOc8FXEJvLd"
   },
   "outputs": [],
   "source": [
    "def projection(x, U):\n",
    "    \"\"\"Projects x into the column space of U, i.e., write x as linear combination of U.\"\"\"\n",
    "    if len(x.shape) == 1:  # Make x a column vector\n",
    "        x = np.expand_dims(x, axis=1)\n",
    "    a = (U.T @ x)\n",
    "    return a"
   ]
  },
  {
   "cell_type": "code",
   "execution_count": 18,
   "metadata": {
    "id": "J5gGNUMBaJPk"
   },
   "outputs": [],
   "source": [
    "def reconstruction(a, U):\n",
    "    \"\"\"Given the coefficients a, reconstruct x with the column vectors of U.\"\"\"\n",
    "    if len(a.shape) == 1:  # Make a a column vector\n",
    "        a = np.expand_dims(a, axis=1)\n",
    "    x_hat = U @ a\n",
    "    return x_hat"
   ]
  },
  {
   "cell_type": "markdown",
   "metadata": {
    "tags": []
   },
   "source": [
    "# Identify Features\n",
    "There are many different identities (synthetic people) within our dataset. We will average the coefficients of all their images."
   ]
  },
  {
   "cell_type": "code",
   "execution_count": 91,
   "metadata": {
    "tags": []
   },
   "outputs": [
    {
     "data": {
      "application/vnd.jupyter.widget-view+json": {
       "model_id": "0516a820312e47b1b8195d8dbc960186",
       "version_major": 2,
       "version_minor": 0
      },
      "text/plain": [
       "  0%|          | 0/40 [00:00<?, ?it/s]"
      ]
     },
     "metadata": {},
     "output_type": "display_data"
    }
   ],
   "source": [
    "identity_coefficients = []\n",
    "for i in tqdm(range(num_identities)):\n",
    "    image_array = [projection(extract_from_D(D, j), U) for j in range(9 * i, 9 * (i + 1 ))]\n",
    "    \n",
    "    image_array = np.array(image_array).squeeze()\n",
    "    average_features = np.mean(image_array, axis = 0)\n",
    "    #imshow(average_features)\n",
    "    identity_coefficients.append(average_features)\n",
    "    #identity_coefficients.append(image_array.T @ np.array([1 for i in range(71)]).T)\n",
    "\n",
    "identity_coefficients = np.array(identity_coefficients)\n",
    "#np.save(f'Coefficients of {num_identities} identites with image size {shape}', identity_coefficients)\n",
    "    \n"
   ]
  },
  {
   "cell_type": "code",
   "execution_count": 92,
   "metadata": {},
   "outputs": [],
   "source": [
    "def predict_identity(image, a = 25, b = shape[0] * shape[1], epsilon_0 = 0.1):\n",
    "    mean_centered = image.flatten() - f_bar.squeeze()\n",
    "    coefficients = projection(mean_centered, U).squeeze()\n",
    "    identity = None\n",
    "    epsilon_0 = 0.1\n",
    "    epsilon_best = np.inf\n",
    "    for i in range(num_identities):\n",
    "        A = coefficients[a:b]\n",
    "        B = identity_coefficients[i][a:b]\n",
    "        #epsilon_i = np.dot(A,B)/(np.linalg.norm(A)*np.linalg.norm(B))\n",
    "        epsilon_i = np.linalg.norm(A-B)\n",
    "        if epsilon_i < epsilon_best:\n",
    "            epsilon_best = epsilon_i\n",
    "            identity = i\n",
    "    #print(epsilon_best)\n",
    "    return identity"
   ]
  },
  {
   "cell_type": "code",
   "execution_count": 94,
   "metadata": {},
   "outputs": [
    {
     "data": {
      "application/vnd.jupyter.widget-view+json": {
       "model_id": "152e17408cc3474cafe69e93dcb4e2f4",
       "version_major": 2,
       "version_minor": 0
      },
      "text/plain": [
       "  0%|          | 0/40 [00:00<?, ?it/s]"
      ]
     },
     "metadata": {},
     "output_type": "display_data"
    },
    {
     "data": {
      "text/plain": [
       "0.75"
      ]
     },
     "execution_count": 94,
     "metadata": {},
     "output_type": "execute_result"
    }
   ],
   "source": [
    "got_correct = []\n",
    "for i in tqdm(range(num_identities)):\n",
    "    image = test_images[i]\n",
    "    predicted_identity = predict_identity(image, a = 25, b = 200) # a =25 best\n",
    "    got_correct.append(predicted_identity == i)\n",
    "    #print(f'We predicted {predicted_identity} and it was actually {i}')\n",
    "    \n",
    "sum(got_correct) / num_identities"
   ]
  },
  {
   "cell_type": "markdown",
   "metadata": {
    "jp-MarkdownHeadingCollapsed": true,
    "tags": []
   },
   "source": [
    "# Demo images"
   ]
  },
  {
   "cell_type": "code",
   "execution_count": 20,
   "metadata": {
    "tags": []
   },
   "outputs": [
    {
     "data": {
      "image/png": "[encoded data removed]",
      "text/plain": [
       "<Figure size 432x288 with 1 Axes>"
      ]
     },
     "metadata": {
      "needs_background": "light"
     },
     "output_type": "display_data"
    }
   ],
   "source": [
    "imshow(images[54])"
   ]
  },
  {
   "cell_type": "code",
   "execution_count": 21,
   "metadata": {},
   "outputs": [
    {
     "data": {
      "image/png": "[encoded data removed]",
      "text/plain": [
       "<Figure size 432x288 with 1 Axes>"
      ]
     },
     "metadata": {
      "needs_background": "light"
     },
     "output_type": "display_data"
    }
   ],
   "source": [
    "demo_image = extract_from_D(D, 78)\n",
    "demo_coefficients = projection(demo_image, U)\n",
    "imshow(demo_coefficients)"
   ]
  },
  {
   "cell_type": "code",
   "execution_count": 868,
   "metadata": {},
   "outputs": [
    {
     "data": {
      "image/png": "[encoded data removed]",
      "text/plain": [
       "<Figure size 432x288 with 1 Axes>"
      ]
     },
     "metadata": {
      "needs_background": "light"
     },
     "output_type": "display_data"
    },
    {
     "data": {
      "image/png": "[encoded data removed]",
      "text/plain": [
       "<Figure size 432x288 with 1 Axes>"
      ]
     },
     "metadata": {
      "needs_background": "light"
     },
     "output_type": "display_data"
    }
   ],
   "source": [
    "#imshow(reconstructed(identity_coefficients[0], U))\n",
    "imshow(identity_coefficients[0])\n",
    "imshow(reconstruction(identity_coefficients[0], U))"
   ]
  },
  {
   "cell_type": "markdown",
   "metadata": {
    "jp-MarkdownHeadingCollapsed": true,
    "tags": []
   },
   "source": [
    "# Predicting Using KNN"
   ]
  },
  {
   "cell_type": "code",
   "execution_count": 58,
   "metadata": {},
   "outputs": [
    {
     "data": {
      "text/plain": [
       "(360, 4096)"
      ]
     },
     "execution_count": 58,
     "metadata": {},
     "output_type": "execute_result"
    }
   ],
   "source": [
    "image_coefficients = U.T @ D_tilde\n",
    "image_coefficients.T.shape"
   ]
  },
  {
   "cell_type": "code",
   "execution_count": 59,
   "metadata": {},
   "outputs": [
    {
     "data": {
      "text/plain": [
       "KNeighborsClassifier(weights='distance')"
      ]
     },
     "execution_count": 59,
     "metadata": {},
     "output_type": "execute_result"
    }
   ],
   "source": [
    "model_main = KNeighborsClassifier(n_neighbors = 5, weights = 'distance')\n",
    "model_main.fit(image_coefficients.T, identity_labels)"
   ]
  },
  {
   "cell_type": "code",
   "execution_count": 60,
   "metadata": {},
   "outputs": [],
   "source": [
    "def predict_identity_KNN(model, image, a = 20, b = shape[0] * shape[1], epsilon_0 = 0.1):\n",
    "    mean_centered = image.flatten() - f_bar.squeeze()\n",
    "    coefficients = projection(mean_centered, U).squeeze()\n",
    "    coefficients[:a] = 0\n",
    "    coefficients[b:] = 0\n",
    "    identity = model.predict([coefficients])\n",
    "    return identity"
   ]
  },
  {
   "cell_type": "code",
   "execution_count": 61,
   "metadata": {},
   "outputs": [
    {
     "data": {
      "application/vnd.jupyter.widget-view+json": {
       "model_id": "808f026debf74feb867a810c05eaebb9",
       "version_major": 2,
       "version_minor": 0
      },
      "text/plain": [
       "  0%|          | 0/40 [00:00<?, ?it/s]"
      ]
     },
     "metadata": {},
     "output_type": "display_data"
    },
    {
     "data": {
      "text/plain": [
       "0.925"
      ]
     },
     "execution_count": 61,
     "metadata": {},
     "output_type": "execute_result"
    }
   ],
   "source": [
    "got_correct = []\n",
    "for i in tqdm(range(num_identities)):\n",
    "    image = test_images[i]\n",
    "    predicted_identity = predict_identity_KNN(model_main, image, a = 0) # a =25 best\n",
    "    got_correct.append( predicted_identity[0] == test_identity_labels[i])\n",
    "    #print(f'We predicted {predicted_identity[0]} and it was actually {test_identity_labels[i]}')\n",
    "sum(got_correct) / num_identities"
   ]
  },
  {
   "cell_type": "markdown",
   "metadata": {},
   "source": [
    "# Parameter Testing"
   ]
  },
  {
   "cell_type": "code",
   "execution_count": 104,
   "metadata": {},
   "outputs": [
    {
     "data": {
      "application/vnd.jupyter.widget-view+json": {
       "model_id": "78593fb2bcf743178cde7bc78858c588",
       "version_major": 2,
       "version_minor": 0
      },
      "text/plain": [
       "  0%|          | 0/39 [00:00<?, ?it/s]"
      ]
     },
     "metadata": {},
     "output_type": "display_data"
    }
   ],
   "source": [
    "averaging_accuracies = []\n",
    "knn_accuracies = []\n",
    "identity_range = range(2, 41)\n",
    "for num_identities in tqdm(identity_range):\n",
    "    images = []\n",
    "    identity_labels = []\n",
    "    test_images = []\n",
    "    test_identity_labels = []\n",
    "    for i in sample(range(40),num_identities):\n",
    "        for j in range(9):\n",
    "            image = Image.fromarray(olivetti_dataset['images'][10 * i + j])\n",
    "            image = image.resize(shape[::-1])\n",
    "            image = np.asarray(image).astype(np.float32)\n",
    "            images.append(image)\n",
    "            identity_labels.append(i)\n",
    "        image = Image.fromarray(olivetti_dataset['images'][10 * i + 9])\n",
    "        image = image.resize(shape[::-1])\n",
    "        image = np.asarray(image).astype(np.float32) \n",
    "        test_images.append(image)\n",
    "        test_identity_labels.append(i)\n",
    "    \n",
    "    images = np.stack(images, axis=0)\n",
    "    test_images = np.stack(test_images, axis = 0)\n",
    "    num_images = images.shape[0]\n",
    "    image_shape = images.shape[1:]\n",
    "    \n",
    "    #SVD\n",
    "    D = np.reshape(images, (images.shape[0], -1)).T\n",
    "    f_bar = np.mean(D, axis=1)[:, None]\n",
    "    D_tilde = D - f_bar\n",
    "    U, S, VT = linalg.svd(D_tilde)\n",
    "    U_show = np.reshape(U.T, (U.shape[0],) + image_shape)\n",
    "    V = VT.T\n",
    "    \n",
    "    \n",
    "    #averaging\n",
    "    identity_coefficients = []\n",
    "    for i in range(num_identities):\n",
    "        image_array = [projection(extract_from_D(D, j), U) for j in range(9 * i, 9 * (i + 1 ))]\n",
    "    \n",
    "        image_array = np.array(image_array).squeeze()\n",
    "        average_features = np.mean(image_array, axis = 0)\n",
    "        #imshow(average_features)\n",
    "        identity_coefficients.append(average_features)\n",
    "        #identity_coefficients.append(image_array.T @ np.array([1 for i in range(71)]).T)\n",
    "\n",
    "    identity_coefficients = np.array(identity_coefficients)\n",
    "    got_correct = []\n",
    "    for i in range(num_identities):\n",
    "        image = test_images[i]\n",
    "        predicted_identity = predict_identity(image, a = 25, b = 200) # a =25 best\n",
    "        got_correct.append(predicted_identity == i)\n",
    "        #print(f'We predicted {predicted_identity} and it was actually {i}')\n",
    "    \n",
    "    averaging_accuracies.append(sum(got_correct) / num_identities)\n",
    "    \n",
    "    #KNN\n",
    "    image_coefficients = U.T @ D_tilde\n",
    "    image_coefficients.T.shape\n",
    "    model = KNeighborsClassifier(n_neighbors = 5, weights = 'distance')\n",
    "    model.fit(image_coefficients.T, identity_labels)\n",
    "    \n",
    "    got_correct = []\n",
    "    for i in range(num_identities):\n",
    "        image = test_images[i]\n",
    "        predicted_identity = predict_identity_KNN(model, image, a = 0) # a =25 best\n",
    "        got_correct.append( predicted_identity[0] == test_identity_labels[i])\n",
    "        #print(f'We predicted {predicted_identity[0]} and it was actually {test_identity_labels[i]}')\n",
    "    knn_accuracies.append(sum(got_correct) / num_identities)\n",
    "    \n",
    "    "
   ]
  },
  {
   "cell_type": "code",
   "execution_count": 109,
   "metadata": {},
   "outputs": [
    {
     "data": {
      "image/png": "[encoded data removed]",
      "text/plain": [
       "<Figure size 432x288 with 1 Axes>"
      ]
     },
     "metadata": {
      "needs_background": "light"
     },
     "output_type": "display_data"
    }
   ],
   "source": [
    "plt.plot(identity_range, averaging_accuracies, label = 'Averaging Method')\n",
    "plt.plot(identity_range, knn_accuracies, label = 'KNN Method, k = 5')\n",
    "plt.legend()\n",
    "plt.title('Accuracy vs. Number of Known Identities')\n",
    "plt.xlabel(\"Number of Identities\")\n",
    "plt.ylabel(\"Accuracy\")\n",
    "plt.savefig('Accuracy vs. Number of Known Identities.png', dpi=400)\n",
    "plt.show()"
   ]
  },
  {
   "cell_type": "code",
   "execution_count": 89,
   "metadata": {},
   "outputs": [
    {
     "data": {
      "application/vnd.jupyter.widget-view+json": {
       "model_id": "68ee6cda59534530898fb72966100d96",
       "version_major": 2,
       "version_minor": 0
      },
      "text/plain": [
       "  0%|          | 0/29 [00:00<?, ?it/s]"
      ]
     },
     "metadata": {},
     "output_type": "display_data"
    }
   ],
   "source": [
    "neighbors_range = range(1, 30)\n",
    "neighbors_accuracies = []\n",
    "for k in tqdm(neighbors_range):\n",
    "    \n",
    "    model = KNeighborsClassifier(n_neighbors = k, weights = 'distance')\n",
    "    model.fit(image_coefficients.T, identity_labels)\n",
    "    got_correct = []\n",
    "    for i in range(num_identities):\n",
    "        image = test_images[i]\n",
    "        predicted_identity = predict_identity_KNN(model, image, a = 0)\n",
    "        got_correct.append( predicted_identity[0] == test_identity_labels[i])\n",
    "        #print(f'We predicted {predicted_identity[0]} and it was actually {test_identity_labels[i]}')\n",
    "    neighbors_accuracies.append(sum(got_correct) / num_identities)"
   ]
  },
  {
   "cell_type": "code",
   "execution_count": 111,
   "metadata": {},
   "outputs": [
    {
     "data": {
      "image/png": "[encoded data removed]",
      "text/plain": [
       "<Figure size 432x288 with 1 Axes>"
      ]
     },
     "metadata": {
      "needs_background": "light"
     },
     "output_type": "display_data"
    }
   ],
   "source": [
    "plt.plot(neighbors_range, neighbors_accuracies)\n",
    "plt.title('Accuracy vs. k-value in KNN Model with 40 identities')\n",
    "plt.xlabel(\"Number of Neighbors\")\n",
    "plt.ylabel(\"Accuracy\")\n",
    "plt.savefig('Accuracy vs. k-value in KNN Model with 40 identities.png', dpi=400)\n",
    "plt.show()"
   ]
  },
  {
   "cell_type": "code",
   "execution_count": 99,
   "metadata": {},
   "outputs": [
    {
     "data": {
      "application/vnd.jupyter.widget-view+json": {
       "model_id": "35c26c9d31c74bf4abda7bf800992794",
       "version_major": 2,
       "version_minor": 0
      },
      "text/plain": [
       "  0%|          | 0/40 [00:00<?, ?it/s]"
      ]
     },
     "metadata": {},
     "output_type": "display_data"
    }
   ],
   "source": [
    "starting_index_range = range(0, 40)\n",
    "starting_index_averaging_accuracies = []\n",
    "starting_index_knn_accuracies = []\n",
    "                             \n",
    "for k in tqdm(starting_index_range):\n",
    "    #print(k)\n",
    "    #averaging\n",
    "    got_correct = []\n",
    "    for i in range(num_identities):\n",
    "        image = test_images[i]\n",
    "        predicted_identity = predict_identity(image, a = k, b = 200) # a =25 best\n",
    "        got_correct.append(predicted_identity == i)\n",
    "        #print(f'We predicted {predicted_identity} and it was actually {i}')\n",
    "    \n",
    "    starting_index_averaging_accuracies.append(sum(got_correct) / num_identities)\n",
    "    #KNN\n",
    "    model = KNeighborsClassifier(n_neighbors = 5, weights = 'distance')\n",
    "    model.fit(image_coefficients.T, identity_labels)\n",
    "    got_correct = []\n",
    "    for i in range(num_identities):\n",
    "        image = test_images[i]\n",
    "        predicted_identity = predict_identity_KNN(model, image, a = k)\n",
    "        got_correct.append( predicted_identity[0] == test_identity_labels[i])\n",
    "        #print(f'We predicted {predicted_identity[0]} and it was actually {test_identity_labels[i]}')\n",
    "    starting_index_knn_accuracies.append(sum(got_correct) / num_identities)"
   ]
  },
  {
   "cell_type": "code",
   "execution_count": 112,
   "metadata": {},
   "outputs": [
    {
     "data": {
      "image/png": "[encoded data removed]",
      "text/plain": [
       "<Figure size 432x288 with 1 Axes>"
      ]
     },
     "metadata": {
      "needs_background": "light"
     },
     "output_type": "display_data"
    }
   ],
   "source": [
    "plt.plot(starting_index_range, starting_index_averaging_accuracies, label = 'Averaging Method')\n",
    "plt.plot(starting_index_range, starting_index_knn_accuracies, label = 'KNN Method, k = 5')\n",
    "plt.legend()\n",
    "plt.title('Accuracy vs. Starting Index with 40 identities')\n",
    "plt.xlabel(\"Starting Index of Unignored Features\")\n",
    "plt.ylabel(\"Accuracy\")\n",
    "plt.savefig('Accuracy vs. Starting Index with 40 identities.png', dpi=400)\n",
    "plt.show()"
   ]
  },
  {
   "cell_type": "code",
   "execution_count": null,
   "metadata": {},
   "outputs": [],
   "source": []
  }
 ],
 "metadata": {
  "colab": {
   "provenance": [],
   "toc_visible": true
  },
  "kernelspec": {
   "display_name": "Python 3 (ipykernel)",
   "language": "python",
   "name": "python3"
  },
  "language_info": {
   "codemirror_mode": {
    "name": "ipython",
    "version": 3
   },
   "file_extension": ".py",
   "mimetype": "text/x-python",
   "name": "python",
   "nbconvert_exporter": "python",
   "pygments_lexer": "ipython3",
   "version": "3.9.7"
  },
  "widgets": {
   "application/vnd.jupyter.widget-state+json": {
    "04476f9f59e84e5b855fa4797e5734af": {
     "model_module": "@jupyter-widgets/controls",
     "model_module_version": "1.5.0",
     "model_name": "ProgressStyleModel",
     "state": {
      "_model_module": "@jupyter-widgets/controls",
      "_model_module_version": "1.5.0",
      "_model_name": "ProgressStyleModel",
      "_view_count": null,
      "_view_module": "@jupyter-widgets/base",
      "_view_module_version": "1.2.0",
      "_view_name": "StyleView",
      "bar_color": null,
      "description_width": ""
     }
    },
    "0918c0334c6246dc90d48d193a23b89e": {
     "model_module": "@jupyter-widgets/base",
     "model_module_version": "1.2.0",
     "model_name": "LayoutModel",
     "state": {
      "_model_module": "@jupyter-widgets/base",
      "_model_module_version": "1.2.0",
      "_model_name": "LayoutModel",
      "_view_count": null,
      "_view_module": "@jupyter-widgets/base",
      "_view_module_version": "1.2.0",
      "_view_name": "LayoutView",
      "align_content": null,
      "align_items": null,
      "align_self": null,
      "border": null,
      "bottom": null,
      "display": null,
      "flex": null,
      "flex_flow": null,
      "grid_area": null,
      "grid_auto_columns": null,
      "grid_auto_flow": null,
      "grid_auto_rows": null,
      "grid_column": null,
      "grid_gap": null,
      "grid_row": null,
      "grid_template_areas": null,
      "grid_template_columns": null,
      "grid_template_rows": null,
      "height": null,
      "justify_content": null,
      "justify_items": null,
      "left": null,
      "margin": null,
      "max_height": null,
      "max_width": null,
      "min_height": null,
      "min_width": null,
      "object_fit": null,
      "object_position": null,
      "order": null,
      "overflow": null,
      "overflow_x": null,
      "overflow_y": null,
      "padding": null,
      "right": null,
      "top": null,
      "visibility": null,
      "width": null
     }
    },
    "0d62eb7b76ac4dbf841ec055eb5d4f29": {
     "model_module": "@jupyter-widgets/base",
     "model_module_version": "1.2.0",
     "model_name": "LayoutModel",
     "state": {
      "_model_module": "@jupyter-widgets/base",
      "_model_module_version": "1.2.0",
      "_model_name": "LayoutModel",
      "_view_count": null,
      "_view_module": "@jupyter-widgets/base",
      "_view_module_version": "1.2.0",
      "_view_name": "LayoutView",
      "align_content": null,
      "align_items": null,
      "align_self": null,
      "border": null,
      "bottom": null,
      "display": null,
      "flex": null,
      "flex_flow": null,
      "grid_area": null,
      "grid_auto_columns": null,
      "grid_auto_flow": null,
      "grid_auto_rows": null,
      "grid_column": null,
      "grid_gap": null,
      "grid_row": null,
      "grid_template_areas": null,
      "grid_template_columns": null,
      "grid_template_rows": null,
      "height": null,
      "justify_content": null,
      "justify_items": null,
      "left": null,
      "margin": null,
      "max_height": null,
      "max_width": null,
      "min_height": null,
      "min_width": null,
      "object_fit": null,
      "object_position": null,
      "order": null,
      "overflow": null,
      "overflow_x": null,
      "overflow_y": null,
      "padding": null,
      "right": null,
      "top": null,
      "visibility": null,
      "width": null
     }
    },
    "12c768b7e051447cb12726aefdd398e6": {
     "model_module": "@jupyter-widgets/base",
     "model_module_version": "1.2.0",
     "model_name": "LayoutModel",
     "state": {
      "_model_module": "@jupyter-widgets/base",
      "_model_module_version": "1.2.0",
      "_model_name": "LayoutModel",
      "_view_count": null,
      "_view_module": "@jupyter-widgets/base",
      "_view_module_version": "1.2.0",
      "_view_name": "LayoutView",
      "align_content": null,
      "align_items": null,
      "align_self": null,
      "border": null,
      "bottom": null,
      "display": null,
      "flex": null,
      "flex_flow": null,
      "grid_area": null,
      "grid_auto_columns": null,
      "grid_auto_flow": null,
      "grid_auto_rows": null,
      "grid_column": null,
      "grid_gap": null,
      "grid_row": null,
      "grid_template_areas": null,
      "grid_template_columns": null,
      "grid_template_rows": null,
      "height": null,
      "justify_content": null,
      "justify_items": null,
      "left": null,
      "margin": null,
      "max_height": null,
      "max_width": null,
      "min_height": null,
      "min_width": null,
      "object_fit": null,
      "object_position": null,
      "order": null,
      "overflow": null,
      "overflow_x": null,
      "overflow_y": null,
      "padding": null,
      "right": null,
      "top": null,
      "visibility": null,
      "width": null
     }
    },
    "13b52233194c4501a06898e8982f7c49": {
     "model_module": "@jupyter-widgets/controls",
     "model_module_version": "1.5.0",
     "model_name": "HTMLModel",
     "state": {
      "_dom_classes": [],
      "_model_module": "@jupyter-widgets/controls",
      "_model_module_version": "1.5.0",
      "_model_name": "HTMLModel",
      "_view_count": null,
      "_view_module": "@jupyter-widgets/controls",
      "_view_module_version": "1.5.0",
      "_view_name": "HTMLView",
      "description": "",
      "description_tooltip": null,
      "layout": "IPY_MODEL_0918c0334c6246dc90d48d193a23b89e",
      "placeholder": "​",
      "style": "IPY_MODEL_9aeb3c40563c4b1a9febe80804518a35",
      "value": "100%"
     }
    },
    "1c16b31816e34c548970550ef90a2786": {
     "model_module": "@jupyter-widgets/base",
     "model_module_version": "1.2.0",
     "model_name": "LayoutModel",
     "state": {
      "_model_module": "@jupyter-widgets/base",
      "_model_module_version": "1.2.0",
      "_model_name": "LayoutModel",
      "_view_count": null,
      "_view_module": "@jupyter-widgets/base",
      "_view_module_version": "1.2.0",
      "_view_name": "LayoutView",
      "align_content": null,
      "align_items": null,
      "align_self": null,
      "border": null,
      "bottom": null,
      "display": null,
      "flex": null,
      "flex_flow": null,
      "grid_area": null,
      "grid_auto_columns": null,
      "grid_auto_flow": null,
      "grid_auto_rows": null,
      "grid_column": null,
      "grid_gap": null,
      "grid_row": null,
      "grid_template_areas": null,
      "grid_template_columns": null,
      "grid_template_rows": null,
      "height": null,
      "justify_content": null,
      "justify_items": null,
      "left": null,
      "margin": null,
      "max_height": null,
      "max_width": null,
      "min_height": null,
      "min_width": null,
      "object_fit": null,
      "object_position": null,
      "order": null,
      "overflow": null,
      "overflow_x": null,
      "overflow_y": null,
      "padding": null,
      "right": null,
      "top": null,
      "visibility": null,
      "width": null
     }
    },
    "1edd9e1c984043ed9f21cd33c14430cd": {
     "model_module": "@jupyter-widgets/base",
     "model_module_version": "1.2.0",
     "model_name": "LayoutModel",
     "state": {
      "_model_module": "@jupyter-widgets/base",
      "_model_module_version": "1.2.0",
      "_model_name": "LayoutModel",
      "_view_count": null,
      "_view_module": "@jupyter-widgets/base",
      "_view_module_version": "1.2.0",
      "_view_name": "LayoutView",
      "align_content": null,
      "align_items": null,
      "align_self": null,
      "border": null,
      "bottom": null,
      "display": null,
      "flex": null,
      "flex_flow": null,
      "grid_area": null,
      "grid_auto_columns": null,
      "grid_auto_flow": null,
      "grid_auto_rows": null,
      "grid_column": null,
      "grid_gap": null,
      "grid_row": null,
      "grid_template_areas": null,
      "grid_template_columns": null,
      "grid_template_rows": null,
      "height": null,
      "justify_content": null,
      "justify_items": null,
      "left": null,
      "margin": null,
      "max_height": null,
      "max_width": null,
      "min_height": null,
      "min_width": null,
      "object_fit": null,
      "object_position": null,
      "order": null,
      "overflow": null,
      "overflow_x": null,
      "overflow_y": null,
      "padding": null,
      "right": null,
      "top": null,
      "visibility": null,
      "width": null
     }
    },
    "2a6424a629ec4a448b7b97ab0408139d": {
     "model_module": "@jupyter-widgets/base",
     "model_module_version": "1.2.0",
     "model_name": "LayoutModel",
     "state": {
      "_model_module": "@jupyter-widgets/base",
      "_model_module_version": "1.2.0",
      "_model_name": "LayoutModel",
      "_view_count": null,
      "_view_module": "@jupyter-widgets/base",
      "_view_module_version": "1.2.0",
      "_view_name": "LayoutView",
      "align_content": null,
      "align_items": null,
      "align_self": null,
      "border": null,
      "bottom": null,
      "display": null,
      "flex": null,
      "flex_flow": null,
      "grid_area": null,
      "grid_auto_columns": null,
      "grid_auto_flow": null,
      "grid_auto_rows": null,
      "grid_column": null,
      "grid_gap": null,
      "grid_row": null,
      "grid_template_areas": null,
      "grid_template_columns": null,
      "grid_template_rows": null,
      "height": null,
      "justify_content": null,
      "justify_items": null,
      "left": null,
      "margin": null,
      "max_height": null,
      "max_width": null,
      "min_height": null,
      "min_width": null,
      "object_fit": null,
      "object_position": null,
      "order": null,
      "overflow": null,
      "overflow_x": null,
      "overflow_y": null,
      "padding": null,
      "right": null,
      "top": null,
      "visibility": null,
      "width": null
     }
    },
    "316b54fb3fbb4e4cb133deb3d05f060a": {
     "model_module": "@jupyter-widgets/controls",
     "model_module_version": "1.5.0",
     "model_name": "HTMLModel",
     "state": {
      "_dom_classes": [],
      "_model_module": "@jupyter-widgets/controls",
      "_model_module_version": "1.5.0",
      "_model_name": "HTMLModel",
      "_view_count": null,
      "_view_module": "@jupyter-widgets/controls",
      "_view_module_version": "1.5.0",
      "_view_name": "HTMLView",
      "description": "",
      "description_tooltip": null,
      "layout": "IPY_MODEL_e0798d2880eb4db5bf7f5b92296b8d38",
      "placeholder": "​",
      "style": "IPY_MODEL_c08c67b6cf6948329af5b84bf6b0da99",
      "value": " 8/8 [00:00&lt;00:00, 298.80it/s]"
     }
    },
    "3446009fa6934ee3a35b44d065cd32a2": {
     "model_module": "@jupyter-widgets/controls",
     "model_module_version": "1.5.0",
     "model_name": "HTMLModel",
     "state": {
      "_dom_classes": [],
      "_model_module": "@jupyter-widgets/controls",
      "_model_module_version": "1.5.0",
      "_model_name": "HTMLModel",
      "_view_count": null,
      "_view_module": "@jupyter-widgets/controls",
      "_view_module_version": "1.5.0",
      "_view_name": "HTMLView",
      "description": "",
      "description_tooltip": null,
      "layout": "IPY_MODEL_562f9a2ecb8e4784a418870c07a97cc2",
      "placeholder": "​",
      "style": "IPY_MODEL_3f056d911b574f738055c7f704f6798c",
      "value": "100%"
     }
    },
    "3918628cfbd444b8beb72b6030a864a4": {
     "model_module": "@jupyter-widgets/controls",
     "model_module_version": "1.5.0",
     "model_name": "HTMLModel",
     "state": {
      "_dom_classes": [],
      "_model_module": "@jupyter-widgets/controls",
      "_model_module_version": "1.5.0",
      "_model_name": "HTMLModel",
      "_view_count": null,
      "_view_module": "@jupyter-widgets/controls",
      "_view_module_version": "1.5.0",
      "_view_name": "HTMLView",
      "description": "",
      "description_tooltip": null,
      "layout": "IPY_MODEL_ef75125adb1b4f84b1b0ef58d4591307",
      "placeholder": "​",
      "style": "IPY_MODEL_88928def983340ee936314c049315ce5",
      "value": "100%"
     }
    },
    "3f056d911b574f738055c7f704f6798c": {
     "model_module": "@jupyter-widgets/controls",
     "model_module_version": "1.5.0",
     "model_name": "DescriptionStyleModel",
     "state": {
      "_model_module": "@jupyter-widgets/controls",
      "_model_module_version": "1.5.0",
      "_model_name": "DescriptionStyleModel",
      "_view_count": null,
      "_view_module": "@jupyter-widgets/base",
      "_view_module_version": "1.2.0",
      "_view_name": "StyleView",
      "description_width": ""
     }
    },
    "44f28ebcae0f420d9bc99a4ed179c12b": {
     "model_module": "@jupyter-widgets/controls",
     "model_module_version": "1.5.0",
     "model_name": "HBoxModel",
     "state": {
      "_dom_classes": [],
      "_model_module": "@jupyter-widgets/controls",
      "_model_module_version": "1.5.0",
      "_model_name": "HBoxModel",
      "_view_count": null,
      "_view_module": "@jupyter-widgets/controls",
      "_view_module_version": "1.5.0",
      "_view_name": "HBoxView",
      "box_style": "",
      "children": [
       "IPY_MODEL_3918628cfbd444b8beb72b6030a864a4",
       "IPY_MODEL_d84f1fdd7a2544d9be5c74538e943114",
       "IPY_MODEL_557fb300650248ef945a3ecb22ebb545"
      ],
      "layout": "IPY_MODEL_ff6c728146bf48f68e9d152c5d4070ea"
     }
    },
    "529d81f1c16042a1bc4e922b09c9ed9a": {
     "model_module": "@jupyter-widgets/controls",
     "model_module_version": "1.5.0",
     "model_name": "ProgressStyleModel",
     "state": {
      "_model_module": "@jupyter-widgets/controls",
      "_model_module_version": "1.5.0",
      "_model_name": "ProgressStyleModel",
      "_view_count": null,
      "_view_module": "@jupyter-widgets/base",
      "_view_module_version": "1.2.0",
      "_view_name": "StyleView",
      "bar_color": null,
      "description_width": ""
     }
    },
    "54e6331b474f4375a91ede10421a6ddb": {
     "model_module": "@jupyter-widgets/base",
     "model_module_version": "1.2.0",
     "model_name": "LayoutModel",
     "state": {
      "_model_module": "@jupyter-widgets/base",
      "_model_module_version": "1.2.0",
      "_model_name": "LayoutModel",
      "_view_count": null,
      "_view_module": "@jupyter-widgets/base",
      "_view_module_version": "1.2.0",
      "_view_name": "LayoutView",
      "align_content": null,
      "align_items": null,
      "align_self": null,
      "border": null,
      "bottom": null,
      "display": null,
      "flex": null,
      "flex_flow": null,
      "grid_area": null,
      "grid_auto_columns": null,
      "grid_auto_flow": null,
      "grid_auto_rows": null,
      "grid_column": null,
      "grid_gap": null,
      "grid_row": null,
      "grid_template_areas": null,
      "grid_template_columns": null,
      "grid_template_rows": null,
      "height": null,
      "justify_content": null,
      "justify_items": null,
      "left": null,
      "margin": null,
      "max_height": null,
      "max_width": null,
      "min_height": null,
      "min_width": null,
      "object_fit": null,
      "object_position": null,
      "order": null,
      "overflow": null,
      "overflow_x": null,
      "overflow_y": null,
      "padding": null,
      "right": null,
      "top": null,
      "visibility": null,
      "width": null
     }
    },
    "557fb300650248ef945a3ecb22ebb545": {
     "model_module": "@jupyter-widgets/controls",
     "model_module_version": "1.5.0",
     "model_name": "HTMLModel",
     "state": {
      "_dom_classes": [],
      "_model_module": "@jupyter-widgets/controls",
      "_model_module_version": "1.5.0",
      "_model_name": "HTMLModel",
      "_view_count": null,
      "_view_module": "@jupyter-widgets/controls",
      "_view_module_version": "1.5.0",
      "_view_name": "HTMLView",
      "description": "",
      "description_tooltip": null,
      "layout": "IPY_MODEL_b132217ade794ec8aed698c41dc2fc0a",
      "placeholder": "​",
      "style": "IPY_MODEL_6ff79738b0a941a3a4a2609fe62526b4",
      "value": " 2424/2424 [00:04&lt;00:00, 558.30it/s]"
     }
    },
    "562f9a2ecb8e4784a418870c07a97cc2": {
     "model_module": "@jupyter-widgets/base",
     "model_module_version": "1.2.0",
     "model_name": "LayoutModel",
     "state": {
      "_model_module": "@jupyter-widgets/base",
      "_model_module_version": "1.2.0",
      "_model_name": "LayoutModel",
      "_view_count": null,
      "_view_module": "@jupyter-widgets/base",
      "_view_module_version": "1.2.0",
      "_view_name": "LayoutView",
      "align_content": null,
      "align_items": null,
      "align_self": null,
      "border": null,
      "bottom": null,
      "display": null,
      "flex": null,
      "flex_flow": null,
      "grid_area": null,
      "grid_auto_columns": null,
      "grid_auto_flow": null,
      "grid_auto_rows": null,
      "grid_column": null,
      "grid_gap": null,
      "grid_row": null,
      "grid_template_areas": null,
      "grid_template_columns": null,
      "grid_template_rows": null,
      "height": null,
      "justify_content": null,
      "justify_items": null,
      "left": null,
      "margin": null,
      "max_height": null,
      "max_width": null,
      "min_height": null,
      "min_width": null,
      "object_fit": null,
      "object_position": null,
      "order": null,
      "overflow": null,
      "overflow_x": null,
      "overflow_y": null,
      "padding": null,
      "right": null,
      "top": null,
      "visibility": null,
      "width": null
     }
    },
    "5cc6ec92d5fa4f299069cbc9947beea3": {
     "model_module": "@jupyter-widgets/base",
     "model_module_version": "1.2.0",
     "model_name": "LayoutModel",
     "state": {
      "_model_module": "@jupyter-widgets/base",
      "_model_module_version": "1.2.0",
      "_model_name": "LayoutModel",
      "_view_count": null,
      "_view_module": "@jupyter-widgets/base",
      "_view_module_version": "1.2.0",
      "_view_name": "LayoutView",
      "align_content": null,
      "align_items": null,
      "align_self": null,
      "border": null,
      "bottom": null,
      "display": null,
      "flex": null,
      "flex_flow": null,
      "grid_area": null,
      "grid_auto_columns": null,
      "grid_auto_flow": null,
      "grid_auto_rows": null,
      "grid_column": null,
      "grid_gap": null,
      "grid_row": null,
      "grid_template_areas": null,
      "grid_template_columns": null,
      "grid_template_rows": null,
      "height": null,
      "justify_content": null,
      "justify_items": null,
      "left": null,
      "margin": null,
      "max_height": null,
      "max_width": null,
      "min_height": null,
      "min_width": null,
      "object_fit": null,
      "object_position": null,
      "order": null,
      "overflow": null,
      "overflow_x": null,
      "overflow_y": null,
      "padding": null,
      "right": null,
      "top": null,
      "visibility": null,
      "width": null
     }
    },
    "633da82066234544a3f215b21eb93a26": {
     "model_module": "@jupyter-widgets/controls",
     "model_module_version": "1.5.0",
     "model_name": "FloatProgressModel",
     "state": {
      "_dom_classes": [],
      "_model_module": "@jupyter-widgets/controls",
      "_model_module_version": "1.5.0",
      "_model_name": "FloatProgressModel",
      "_view_count": null,
      "_view_module": "@jupyter-widgets/controls",
      "_view_module_version": "1.5.0",
      "_view_name": "ProgressView",
      "bar_style": "success",
      "description": "",
      "description_tooltip": null,
      "layout": "IPY_MODEL_12c768b7e051447cb12726aefdd398e6",
      "max": 8,
      "min": 0,
      "orientation": "horizontal",
      "style": "IPY_MODEL_04476f9f59e84e5b855fa4797e5734af",
      "value": 8
     }
    },
    "6ff79738b0a941a3a4a2609fe62526b4": {
     "model_module": "@jupyter-widgets/controls",
     "model_module_version": "1.5.0",
     "model_name": "DescriptionStyleModel",
     "state": {
      "_model_module": "@jupyter-widgets/controls",
      "_model_module_version": "1.5.0",
      "_model_name": "DescriptionStyleModel",
      "_view_count": null,
      "_view_module": "@jupyter-widgets/base",
      "_view_module_version": "1.2.0",
      "_view_name": "StyleView",
      "description_width": ""
     }
    },
    "70aac52b1b574dcfaad3421b55689899": {
     "model_module": "@jupyter-widgets/controls",
     "model_module_version": "1.5.0",
     "model_name": "ProgressStyleModel",
     "state": {
      "_model_module": "@jupyter-widgets/controls",
      "_model_module_version": "1.5.0",
      "_model_name": "ProgressStyleModel",
      "_view_count": null,
      "_view_module": "@jupyter-widgets/base",
      "_view_module_version": "1.2.0",
      "_view_name": "StyleView",
      "bar_color": null,
      "description_width": ""
     }
    },
    "763f7d7fd6ef44ae835af63a2dec94fb": {
     "model_module": "@jupyter-widgets/controls",
     "model_module_version": "1.5.0",
     "model_name": "DescriptionStyleModel",
     "state": {
      "_model_module": "@jupyter-widgets/controls",
      "_model_module_version": "1.5.0",
      "_model_name": "DescriptionStyleModel",
      "_view_count": null,
      "_view_module": "@jupyter-widgets/base",
      "_view_module_version": "1.2.0",
      "_view_name": "StyleView",
      "description_width": ""
     }
    },
    "88928def983340ee936314c049315ce5": {
     "model_module": "@jupyter-widgets/controls",
     "model_module_version": "1.5.0",
     "model_name": "DescriptionStyleModel",
     "state": {
      "_model_module": "@jupyter-widgets/controls",
      "_model_module_version": "1.5.0",
      "_model_name": "DescriptionStyleModel",
      "_view_count": null,
      "_view_module": "@jupyter-widgets/base",
      "_view_module_version": "1.2.0",
      "_view_name": "StyleView",
      "description_width": ""
     }
    },
    "8e83c991fbe24518a81f96929fe28142": {
     "model_module": "@jupyter-widgets/controls",
     "model_module_version": "1.5.0",
     "model_name": "HTMLModel",
     "state": {
      "_dom_classes": [],
      "_model_module": "@jupyter-widgets/controls",
      "_model_module_version": "1.5.0",
      "_model_name": "HTMLModel",
      "_view_count": null,
      "_view_module": "@jupyter-widgets/controls",
      "_view_module_version": "1.5.0",
      "_view_name": "HTMLView",
      "description": "",
      "description_tooltip": null,
      "layout": "IPY_MODEL_d82f830edfa0401ca2f76ec0ba2bff3a",
      "placeholder": "​",
      "style": "IPY_MODEL_c5f6841155b146aa8a8f83d42eebfc7e",
      "value": " 11/11 [00:00&lt;00:00, 19.25it/s]"
     }
    },
    "9a2a4c09074949438eda598da8036719": {
     "model_module": "@jupyter-widgets/controls",
     "model_module_version": "1.5.0",
     "model_name": "FloatProgressModel",
     "state": {
      "_dom_classes": [],
      "_model_module": "@jupyter-widgets/controls",
      "_model_module_version": "1.5.0",
      "_model_name": "FloatProgressModel",
      "_view_count": null,
      "_view_module": "@jupyter-widgets/controls",
      "_view_module_version": "1.5.0",
      "_view_name": "ProgressView",
      "bar_style": "success",
      "description": "",
      "description_tooltip": null,
      "layout": "IPY_MODEL_2a6424a629ec4a448b7b97ab0408139d",
      "max": 11,
      "min": 0,
      "orientation": "horizontal",
      "style": "IPY_MODEL_529d81f1c16042a1bc4e922b09c9ed9a",
      "value": 11
     }
    },
    "9aeb3c40563c4b1a9febe80804518a35": {
     "model_module": "@jupyter-widgets/controls",
     "model_module_version": "1.5.0",
     "model_name": "DescriptionStyleModel",
     "state": {
      "_model_module": "@jupyter-widgets/controls",
      "_model_module_version": "1.5.0",
      "_model_name": "DescriptionStyleModel",
      "_view_count": null,
      "_view_module": "@jupyter-widgets/base",
      "_view_module_version": "1.2.0",
      "_view_name": "StyleView",
      "description_width": ""
     }
    },
    "9d3194e3ad714c4cafd2ba2e8a20fd11": {
     "model_module": "@jupyter-widgets/controls",
     "model_module_version": "1.5.0",
     "model_name": "HTMLModel",
     "state": {
      "_dom_classes": [],
      "_model_module": "@jupyter-widgets/controls",
      "_model_module_version": "1.5.0",
      "_model_name": "HTMLModel",
      "_view_count": null,
      "_view_module": "@jupyter-widgets/controls",
      "_view_module_version": "1.5.0",
      "_view_name": "HTMLView",
      "description": "",
      "description_tooltip": null,
      "layout": "IPY_MODEL_bbcedcf0228c42c2a234a1e6056bc9c3",
      "placeholder": "​",
      "style": "IPY_MODEL_763f7d7fd6ef44ae835af63a2dec94fb",
      "value": " 8/8 [00:00&lt;00:00, 124.45it/s]"
     }
    },
    "a9530af275304e71bb11e08d8aa3189e": {
     "model_module": "@jupyter-widgets/controls",
     "model_module_version": "1.5.0",
     "model_name": "FloatProgressModel",
     "state": {
      "_dom_classes": [],
      "_model_module": "@jupyter-widgets/controls",
      "_model_module_version": "1.5.0",
      "_model_name": "FloatProgressModel",
      "_view_count": null,
      "_view_module": "@jupyter-widgets/controls",
      "_view_module_version": "1.5.0",
      "_view_name": "ProgressView",
      "bar_style": "success",
      "description": "",
      "description_tooltip": null,
      "layout": "IPY_MODEL_5cc6ec92d5fa4f299069cbc9947beea3",
      "max": 8,
      "min": 0,
      "orientation": "horizontal",
      "style": "IPY_MODEL_c48f7cdefd5f4368a5740c9088e971a2",
      "value": 8
     }
    },
    "b132217ade794ec8aed698c41dc2fc0a": {
     "model_module": "@jupyter-widgets/base",
     "model_module_version": "1.2.0",
     "model_name": "LayoutModel",
     "state": {
      "_model_module": "@jupyter-widgets/base",
      "_model_module_version": "1.2.0",
      "_model_name": "LayoutModel",
      "_view_count": null,
      "_view_module": "@jupyter-widgets/base",
      "_view_module_version": "1.2.0",
      "_view_name": "LayoutView",
      "align_content": null,
      "align_items": null,
      "align_self": null,
      "border": null,
      "bottom": null,
      "display": null,
      "flex": null,
      "flex_flow": null,
      "grid_area": null,
      "grid_auto_columns": null,
      "grid_auto_flow": null,
      "grid_auto_rows": null,
      "grid_column": null,
      "grid_gap": null,
      "grid_row": null,
      "grid_template_areas": null,
      "grid_template_columns": null,
      "grid_template_rows": null,
      "height": null,
      "justify_content": null,
      "justify_items": null,
      "left": null,
      "margin": null,
      "max_height": null,
      "max_width": null,
      "min_height": null,
      "min_width": null,
      "object_fit": null,
      "object_position": null,
      "order": null,
      "overflow": null,
      "overflow_x": null,
      "overflow_y": null,
      "padding": null,
      "right": null,
      "top": null,
      "visibility": null,
      "width": null
     }
    },
    "bbcedcf0228c42c2a234a1e6056bc9c3": {
     "model_module": "@jupyter-widgets/base",
     "model_module_version": "1.2.0",
     "model_name": "LayoutModel",
     "state": {
      "_model_module": "@jupyter-widgets/base",
      "_model_module_version": "1.2.0",
      "_model_name": "LayoutModel",
      "_view_count": null,
      "_view_module": "@jupyter-widgets/base",
      "_view_module_version": "1.2.0",
      "_view_name": "LayoutView",
      "align_content": null,
      "align_items": null,
      "align_self": null,
      "border": null,
      "bottom": null,
      "display": null,
      "flex": null,
      "flex_flow": null,
      "grid_area": null,
      "grid_auto_columns": null,
      "grid_auto_flow": null,
      "grid_auto_rows": null,
      "grid_column": null,
      "grid_gap": null,
      "grid_row": null,
      "grid_template_areas": null,
      "grid_template_columns": null,
      "grid_template_rows": null,
      "height": null,
      "justify_content": null,
      "justify_items": null,
      "left": null,
      "margin": null,
      "max_height": null,
      "max_width": null,
      "min_height": null,
      "min_width": null,
      "object_fit": null,
      "object_position": null,
      "order": null,
      "overflow": null,
      "overflow_x": null,
      "overflow_y": null,
      "padding": null,
      "right": null,
      "top": null,
      "visibility": null,
      "width": null
     }
    },
    "bc4009b5f04f4f74a66afbc5b8f11a7e": {
     "model_module": "@jupyter-widgets/controls",
     "model_module_version": "1.5.0",
     "model_name": "HBoxModel",
     "state": {
      "_dom_classes": [],
      "_model_module": "@jupyter-widgets/controls",
      "_model_module_version": "1.5.0",
      "_model_name": "HBoxModel",
      "_view_count": null,
      "_view_module": "@jupyter-widgets/controls",
      "_view_module_version": "1.5.0",
      "_view_name": "HBoxView",
      "box_style": "",
      "children": [
       "IPY_MODEL_13b52233194c4501a06898e8982f7c49",
       "IPY_MODEL_a9530af275304e71bb11e08d8aa3189e",
       "IPY_MODEL_9d3194e3ad714c4cafd2ba2e8a20fd11"
      ],
      "layout": "IPY_MODEL_0d62eb7b76ac4dbf841ec055eb5d4f29"
     }
    },
    "c08c67b6cf6948329af5b84bf6b0da99": {
     "model_module": "@jupyter-widgets/controls",
     "model_module_version": "1.5.0",
     "model_name": "DescriptionStyleModel",
     "state": {
      "_model_module": "@jupyter-widgets/controls",
      "_model_module_version": "1.5.0",
      "_model_name": "DescriptionStyleModel",
      "_view_count": null,
      "_view_module": "@jupyter-widgets/base",
      "_view_module_version": "1.2.0",
      "_view_name": "StyleView",
      "description_width": ""
     }
    },
    "c48f7cdefd5f4368a5740c9088e971a2": {
     "model_module": "@jupyter-widgets/controls",
     "model_module_version": "1.5.0",
     "model_name": "ProgressStyleModel",
     "state": {
      "_model_module": "@jupyter-widgets/controls",
      "_model_module_version": "1.5.0",
      "_model_name": "ProgressStyleModel",
      "_view_count": null,
      "_view_module": "@jupyter-widgets/base",
      "_view_module_version": "1.2.0",
      "_view_name": "StyleView",
      "bar_color": null,
      "description_width": ""
     }
    },
    "c5f6841155b146aa8a8f83d42eebfc7e": {
     "model_module": "@jupyter-widgets/controls",
     "model_module_version": "1.5.0",
     "model_name": "DescriptionStyleModel",
     "state": {
      "_model_module": "@jupyter-widgets/controls",
      "_model_module_version": "1.5.0",
      "_model_name": "DescriptionStyleModel",
      "_view_count": null,
      "_view_module": "@jupyter-widgets/base",
      "_view_module_version": "1.2.0",
      "_view_name": "StyleView",
      "description_width": ""
     }
    },
    "c8883843e82e4ca69c50981a71edbf1a": {
     "model_module": "@jupyter-widgets/base",
     "model_module_version": "1.2.0",
     "model_name": "LayoutModel",
     "state": {
      "_model_module": "@jupyter-widgets/base",
      "_model_module_version": "1.2.0",
      "_model_name": "LayoutModel",
      "_view_count": null,
      "_view_module": "@jupyter-widgets/base",
      "_view_module_version": "1.2.0",
      "_view_name": "LayoutView",
      "align_content": null,
      "align_items": null,
      "align_self": null,
      "border": null,
      "bottom": null,
      "display": null,
      "flex": null,
      "flex_flow": null,
      "grid_area": null,
      "grid_auto_columns": null,
      "grid_auto_flow": null,
      "grid_auto_rows": null,
      "grid_column": null,
      "grid_gap": null,
      "grid_row": null,
      "grid_template_areas": null,
      "grid_template_columns": null,
      "grid_template_rows": null,
      "height": null,
      "justify_content": null,
      "justify_items": null,
      "left": null,
      "margin": null,
      "max_height": null,
      "max_width": null,
      "min_height": null,
      "min_width": null,
      "object_fit": null,
      "object_position": null,
      "order": null,
      "overflow": null,
      "overflow_x": null,
      "overflow_y": null,
      "padding": null,
      "right": null,
      "top": null,
      "visibility": null,
      "width": null
     }
    },
    "d6bec46cca0746259c02ed7bc64ab864": {
     "model_module": "@jupyter-widgets/controls",
     "model_module_version": "1.5.0",
     "model_name": "HBoxModel",
     "state": {
      "_dom_classes": [],
      "_model_module": "@jupyter-widgets/controls",
      "_model_module_version": "1.5.0",
      "_model_name": "HBoxModel",
      "_view_count": null,
      "_view_module": "@jupyter-widgets/controls",
      "_view_module_version": "1.5.0",
      "_view_name": "HBoxView",
      "box_style": "",
      "children": [
       "IPY_MODEL_3446009fa6934ee3a35b44d065cd32a2",
       "IPY_MODEL_633da82066234544a3f215b21eb93a26",
       "IPY_MODEL_316b54fb3fbb4e4cb133deb3d05f060a"
      ],
      "layout": "IPY_MODEL_c8883843e82e4ca69c50981a71edbf1a"
     }
    },
    "d82f830edfa0401ca2f76ec0ba2bff3a": {
     "model_module": "@jupyter-widgets/base",
     "model_module_version": "1.2.0",
     "model_name": "LayoutModel",
     "state": {
      "_model_module": "@jupyter-widgets/base",
      "_model_module_version": "1.2.0",
      "_model_name": "LayoutModel",
      "_view_count": null,
      "_view_module": "@jupyter-widgets/base",
      "_view_module_version": "1.2.0",
      "_view_name": "LayoutView",
      "align_content": null,
      "align_items": null,
      "align_self": null,
      "border": null,
      "bottom": null,
      "display": null,
      "flex": null,
      "flex_flow": null,
      "grid_area": null,
      "grid_auto_columns": null,
      "grid_auto_flow": null,
      "grid_auto_rows": null,
      "grid_column": null,
      "grid_gap": null,
      "grid_row": null,
      "grid_template_areas": null,
      "grid_template_columns": null,
      "grid_template_rows": null,
      "height": null,
      "justify_content": null,
      "justify_items": null,
      "left": null,
      "margin": null,
      "max_height": null,
      "max_width": null,
      "min_height": null,
      "min_width": null,
      "object_fit": null,
      "object_position": null,
      "order": null,
      "overflow": null,
      "overflow_x": null,
      "overflow_y": null,
      "padding": null,
      "right": null,
      "top": null,
      "visibility": null,
      "width": null
     }
    },
    "d84f1fdd7a2544d9be5c74538e943114": {
     "model_module": "@jupyter-widgets/controls",
     "model_module_version": "1.5.0",
     "model_name": "FloatProgressModel",
     "state": {
      "_dom_classes": [],
      "_model_module": "@jupyter-widgets/controls",
      "_model_module_version": "1.5.0",
      "_model_name": "FloatProgressModel",
      "_view_count": null,
      "_view_module": "@jupyter-widgets/controls",
      "_view_module_version": "1.5.0",
      "_view_name": "ProgressView",
      "bar_style": "success",
      "description": "",
      "description_tooltip": null,
      "layout": "IPY_MODEL_1edd9e1c984043ed9f21cd33c14430cd",
      "max": 2424,
      "min": 0,
      "orientation": "horizontal",
      "style": "IPY_MODEL_70aac52b1b574dcfaad3421b55689899",
      "value": 2424
     }
    },
    "d8b07b21a4e744e7a9a40db32594785b": {
     "model_module": "@jupyter-widgets/controls",
     "model_module_version": "1.5.0",
     "model_name": "HTMLModel",
     "state": {
      "_dom_classes": [],
      "_model_module": "@jupyter-widgets/controls",
      "_model_module_version": "1.5.0",
      "_model_name": "HTMLModel",
      "_view_count": null,
      "_view_module": "@jupyter-widgets/controls",
      "_view_module_version": "1.5.0",
      "_view_name": "HTMLView",
      "description": "",
      "description_tooltip": null,
      "layout": "IPY_MODEL_1c16b31816e34c548970550ef90a2786",
      "placeholder": "​",
      "style": "IPY_MODEL_e59525b7cc234b40b331d83e8ee21b71",
      "value": "100%"
     }
    },
    "e0798d2880eb4db5bf7f5b92296b8d38": {
     "model_module": "@jupyter-widgets/base",
     "model_module_version": "1.2.0",
     "model_name": "LayoutModel",
     "state": {
      "_model_module": "@jupyter-widgets/base",
      "_model_module_version": "1.2.0",
      "_model_name": "LayoutModel",
      "_view_count": null,
      "_view_module": "@jupyter-widgets/base",
      "_view_module_version": "1.2.0",
      "_view_name": "LayoutView",
      "align_content": null,
      "align_items": null,
      "align_self": null,
      "border": null,
      "bottom": null,
      "display": null,
      "flex": null,
      "flex_flow": null,
      "grid_area": null,
      "grid_auto_columns": null,
      "grid_auto_flow": null,
      "grid_auto_rows": null,
      "grid_column": null,
      "grid_gap": null,
      "grid_row": null,
      "grid_template_areas": null,
      "grid_template_columns": null,
      "grid_template_rows": null,
      "height": null,
      "justify_content": null,
      "justify_items": null,
      "left": null,
      "margin": null,
      "max_height": null,
      "max_width": null,
      "min_height": null,
      "min_width": null,
      "object_fit": null,
      "object_position": null,
      "order": null,
      "overflow": null,
      "overflow_x": null,
      "overflow_y": null,
      "padding": null,
      "right": null,
      "top": null,
      "visibility": null,
      "width": null
     }
    },
    "e59525b7cc234b40b331d83e8ee21b71": {
     "model_module": "@jupyter-widgets/controls",
     "model_module_version": "1.5.0",
     "model_name": "DescriptionStyleModel",
     "state": {
      "_model_module": "@jupyter-widgets/controls",
      "_model_module_version": "1.5.0",
      "_model_name": "DescriptionStyleModel",
      "_view_count": null,
      "_view_module": "@jupyter-widgets/base",
      "_view_module_version": "1.2.0",
      "_view_name": "StyleView",
      "description_width": ""
     }
    },
    "ef75125adb1b4f84b1b0ef58d4591307": {
     "model_module": "@jupyter-widgets/base",
     "model_module_version": "1.2.0",
     "model_name": "LayoutModel",
     "state": {
      "_model_module": "@jupyter-widgets/base",
      "_model_module_version": "1.2.0",
      "_model_name": "LayoutModel",
      "_view_count": null,
      "_view_module": "@jupyter-widgets/base",
      "_view_module_version": "1.2.0",
      "_view_name": "LayoutView",
      "align_content": null,
      "align_items": null,
      "align_self": null,
      "border": null,
      "bottom": null,
      "display": null,
      "flex": null,
      "flex_flow": null,
      "grid_area": null,
      "grid_auto_columns": null,
      "grid_auto_flow": null,
      "grid_auto_rows": null,
      "grid_column": null,
      "grid_gap": null,
      "grid_row": null,
      "grid_template_areas": null,
      "grid_template_columns": null,
      "grid_template_rows": null,
      "height": null,
      "justify_content": null,
      "justify_items": null,
      "left": null,
      "margin": null,
      "max_height": null,
      "max_width": null,
      "min_height": null,
      "min_width": null,
      "object_fit": null,
      "object_position": null,
      "order": null,
      "overflow": null,
      "overflow_x": null,
      "overflow_y": null,
      "padding": null,
      "right": null,
      "top": null,
      "visibility": null,
      "width": null
     }
    },
    "fbe32e3767214fc68528a6380138263a": {
     "model_module": "@jupyter-widgets/controls",
     "model_module_version": "1.5.0",
     "model_name": "HBoxModel",
     "state": {
      "_dom_classes": [],
      "_model_module": "@jupyter-widgets/controls",
      "_model_module_version": "1.5.0",
      "_model_name": "HBoxModel",
      "_view_count": null,
      "_view_module": "@jupyter-widgets/controls",
      "_view_module_version": "1.5.0",
      "_view_name": "HBoxView",
      "box_style": "",
      "children": [
       "IPY_MODEL_d8b07b21a4e744e7a9a40db32594785b",
       "IPY_MODEL_9a2a4c09074949438eda598da8036719",
       "IPY_MODEL_8e83c991fbe24518a81f96929fe28142"
      ],
      "layout": "IPY_MODEL_54e6331b474f4375a91ede10421a6ddb"
     }
    },
    "ff6c728146bf48f68e9d152c5d4070ea": {
     "model_module": "@jupyter-widgets/base",
     "model_module_version": "1.2.0",
     "model_name": "LayoutModel",
     "state": {
      "_model_module": "@jupyter-widgets/base",
      "_model_module_version": "1.2.0",
      "_model_name": "LayoutModel",
      "_view_count": null,
      "_view_module": "@jupyter-widgets/base",
      "_view_module_version": "1.2.0",
      "_view_name": "LayoutView",
      "align_content": null,
      "align_items": null,
      "align_self": null,
      "border": null,
      "bottom": null,
      "display": null,
      "flex": null,
      "flex_flow": null,
      "grid_area": null,
      "grid_auto_columns": null,
      "grid_auto_flow": null,
      "grid_auto_rows": null,
      "grid_column": null,
      "grid_gap": null,
      "grid_row": null,
      "grid_template_areas": null,
      "grid_template_columns": null,
      "grid_template_rows": null,
      "height": null,
      "justify_content": null,
      "justify_items": null,
      "left": null,
      "margin": null,
      "max_height": null,
      "max_width": null,
      "min_height": null,
      "min_width": null,
      "object_fit": null,
      "object_position": null,
      "order": null,
      "overflow": null,
      "overflow_x": null,
      "overflow_y": null,
      "padding": null,
      "right": null,
      "top": null,
      "visibility": null,
      "width": null
     }
    }
   }
  }
 },
 "nbformat": 4,
 "nbformat_minor": 4
}
